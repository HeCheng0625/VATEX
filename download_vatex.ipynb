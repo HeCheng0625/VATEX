{
 "cells": [
  {
   "cell_type": "code",
   "execution_count": 34,
   "metadata": {},
   "outputs": [],
   "source": [
    "import sys\n",
    "import os.path\n",
    "import numpy as np\n",
    "import pafy\n",
    "import soundfile as sf \n",
    "import json\n",
    "import subprocess as sp"
   ]
  },
  {
   "cell_type": "code",
   "execution_count": 35,
   "metadata": {},
   "outputs": [],
   "source": [
    "# Set output settings\n",
    "audio_codec = 'flac'\n",
    "audio_container = 'flac'\n",
    "video_codec = 'h264'\n",
    "video_container = 'mp4'\n",
    "\n",
    "video_save_path = 'vatex_public_test_english/video'\n",
    "audio_save_path =  'vatex_public_test_english/audio'"
   ]
  },
  {
   "cell_type": "code",
   "execution_count": 36,
   "metadata": {},
   "outputs": [
    {
     "name": "stdout",
     "output_type": "stream",
     "text": [
      "6000\n",
      "('5-xGskbsBgI', '000055', '000065') ('WbbqbXx8vh4', '000198', '000208')\n"
     ]
    }
   ],
   "source": [
    "download_json_file = \"/home/v-detaixin/VATEX/vatex_public_test_english_v1.1.json\"\n",
    "with open(download_json_file, \"r\") as f:\n",
    "    download_infos = json.load(f)\n",
    "print(len(download_infos))\n",
    "\n",
    "dl_list = []\n",
    "for i in range(len(download_infos)):\n",
    "    videoID = download_infos[i][\"videoID\"]\n",
    "    video_id = videoID[:11]\n",
    "    start_time = videoID[11:].split(\"_\")[1]\n",
    "    end_time = videoID[11:].split(\"_\")[2]\n",
    "    dl_list.append((video_id, start_time, end_time))\n",
    "\n",
    "print(dl_list[0], dl_list[1000])"
   ]
  },
  {
   "cell_type": "code",
   "execution_count": 37,
   "metadata": {},
   "outputs": [
    {
     "name": "stdout",
     "output_type": "stream",
     "text": [
      "Video URL: https://rr4---sn-nx5s7n7y.googlevideo.com/videoplayback?expire=1694795418&ei=OjIEZfHqKdHSkgbY5rCQCA&ip=131.107.1.227&id=o-AAaXsUZ-8mfjpDJ4r7uTJLjwO5wfLbiqDpaGX-p7HwaJ&itag=135&aitags=134%2C135%2C160%2C243&source=youtube&requiressl=yes&mh=l1&mm=31%2C29&mn=sn-nx5s7n7y%2Csn-nx57ynss&ms=au%2Crdu&mv=m&mvi=4&pl=16&initcwndbps=1072500&spc=UWF9f3kQmSq4bxvkaxKb_H-8dADFYm04J_ddGQfH6g&vprv=1&svpuc=1&mime=video%2Fmp4&ns=eeBksgiyei9c0MCYSNvEIccP&gir=yes&clen=27844547&dur=373.706&lmt=1694336876005310&mt=1694773540&fvip=4&keepalive=yes&fexp=24007246&c=WEB&txp=1216224&n=j5E45gNbyK4lgQ&sparams=expire%2Cei%2Cip%2Cid%2Caitags%2Csource%2Crequiressl%2Cspc%2Cvprv%2Csvpuc%2Cmime%2Cns%2Cgir%2Cclen%2Cdur%2Clmt&sig=AOq0QJ8wRAIgBPUlBnd3DxU0_LhabmCZ8PV8O4CJ0CPqqLgtTUa7qHQCIGCxnfy1mnESwl3Eo3CPrYWDf1FvhaEujgM6OvskqWFv&lsparams=mh%2Cmm%2Cmn%2Cms%2Cmv%2Cmvi%2Cpl%2Cinitcwndbps&lsig=AG3C_xAwRQIgV8yM2UivYqiqz6uxCsOSynWgsDvfzifGwTGjtZdpA20CIQCi6HfQyF06Yqp2GEnv0GiI1pcgKthfgLKiqT4CDGgF8w%3D%3D\n",
      "Audio URL: https://rr4---sn-nx5s7n7y.googlevideo.com/videoplayback?expire=1694795418&ei=OjIEZfHqKdHSkgbY5rCQCA&ip=131.107.1.227&id=o-AAaXsUZ-8mfjpDJ4r7uTJLjwO5wfLbiqDpaGX-p7HwaJ&itag=251&source=youtube&requiressl=yes&mh=l1&mm=31%2C29&mn=sn-nx5s7n7y%2Csn-nx57ynss&ms=au%2Crdu&mv=m&mvi=4&pl=16&initcwndbps=1072500&spc=UWF9f3kQmSq4bxvkaxKb_H-8dADFYm04J_ddGQfH6g&vprv=1&svpuc=1&mime=audio%2Fwebm&ns=eeBksgiyei9c0MCYSNvEIccP&gir=yes&clen=3095033&dur=373.861&lmt=1565399094152275&mt=1694773540&fvip=4&keepalive=yes&fexp=24007246&c=WEB&n=j5E45gNbyK4lgQ&sparams=expire%2Cei%2Cip%2Cid%2Citag%2Csource%2Crequiressl%2Cspc%2Cvprv%2Csvpuc%2Cmime%2Cns%2Cgir%2Cclen%2Cdur%2Clmt&sig=AOq0QJ8wRQIhAMDcqsY5RdVUT5V6WmrcwQxnweHurFtIDrDJZBwiCGvfAiAnwoNzCszkfDbWq4KK5qMSm2BMPc9wsIQTrsSqU-ENcw%3D%3D&lsparams=mh%2Cmm%2Cmn%2Cms%2Cmv%2Cmvi%2Cpl%2Cinitcwndbps&lsig=AG3C_xAwRQIgV8yM2UivYqiqz6uxCsOSynWgsDvfzifGwTGjtZdpA20CIQCi6HfQyF06Yqp2GEnv0GiI1pcgKthfgLKiqT4CDGgF8w%3D%3D\n"
     ]
    }
   ],
   "source": [
    "# ! pip install git+https://github.com/ytdl-org/youtube-dl.git@master#egg=youtube_dl\n",
    "\n",
    "ytid, ts_start, ts_end = dl_list[0]\n",
    "\n",
    "# Get the URL to the video page\n",
    "video_page_url = 'https://www.youtube.com/watch?v={}'.format(ytid)\n",
    "\n",
    "# Get the direct URLs to the videos with best audio and with best video (with audio)\n",
    "video = pafy.new(video_page_url)\n",
    "\n",
    "best_video = video.getbestvideo()\n",
    "best_video_url = best_video.url\n",
    "print(\"Video URL: \" + best_video_url)\n",
    "\n",
    "best_audio = video.getbestaudio()\n",
    "best_audio_url = best_audio.url\n",
    "print(\"Audio URL: \" + best_audio_url)"
   ]
  },
  {
   "cell_type": "code",
   "execution_count": 38,
   "metadata": {},
   "outputs": [],
   "source": [
    "# Get output video and audio filepaths\n",
    "basename_fmt = '{}_{}_{}'.format(ytid, ts_start, ts_end)\n",
    "video_filepath = os.path.join(video_save_path, basename_fmt + '.' + video_container)\n",
    "audio_filepath = os.path.join(audio_save_path, basename_fmt + '.' + audio_codec)"
   ]
  },
  {
   "cell_type": "code",
   "execution_count": null,
   "metadata": {},
   "outputs": [],
   "source": [
    "try:\n",
    "    video_command = 'ffmpeg' + ' ' + '-n' + ' ' + '-ss' + ' ' + str(int(ts_start)) + ' ' + '-i' + ' ' + '\"' + best_video_url + '\"' + ' ' + '-t' + ' ' + str(int(ts_end) - int(ts_start)) + ' ' + '-f' + ' ' + video_container + ' ' + '-framerate' + ' ' + '30' + ' ' + '-vcodec' + ' ' + 'h264' + ' ' + video_filepath\n",
    "    print(video_command)\n",
    "    os.system(video_command)\n",
    "except:\n",
    "    pass"
   ]
  },
  {
   "cell_type": "code",
   "execution_count": null,
   "metadata": {},
   "outputs": [],
   "source": [
    "try:\n",
    "    audio_command = 'ffmpeg' + ' ' + '-n' + ' ' + '-ss' + ' ' + str(int(ts_start)) + ' ' + '-i' + ' ' + '\"' + best_audio_url + '\"' + ' ' + '-t' + ' ' + str(int(ts_end) - int(ts_start)) + ' ' + '-vn' + ' ' + '-ac' + ' ' + '2' + ' ' + '-sample_fmt' + ' ' + 's16' + ' ' + '-acodec' + ' ' + audio_codec + ' ' + '-ar' + ' ' + '44100' + ' ' + audio_filepath\n",
    "    print(audio_command)\n",
    "    os.system(audio_command)\n",
    "except:\n",
    "    pass"
   ]
  }
 ],
 "metadata": {
  "kernelspec": {
   "display_name": "codec",
   "language": "python",
   "name": "python3"
  },
  "language_info": {
   "codemirror_mode": {
    "name": "ipython",
    "version": 3
   },
   "file_extension": ".py",
   "mimetype": "text/x-python",
   "name": "python",
   "nbconvert_exporter": "python",
   "pygments_lexer": "ipython3",
   "version": "3.8.18"
  },
  "orig_nbformat": 4
 },
 "nbformat": 4,
 "nbformat_minor": 2
}
