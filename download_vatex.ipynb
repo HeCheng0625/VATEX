{
 "cells": [
  {
   "cell_type": "code",
   "execution_count": 1,
   "metadata": {},
   "outputs": [],
   "source": [
    "import sys\n",
    "import os.path\n",
    "import numpy as np\n",
    "import pafy\n",
    "import soundfile as sf \n",
    "import json"
   ]
  },
  {
   "cell_type": "code",
   "execution_count": 2,
   "metadata": {},
   "outputs": [],
   "source": [
    "# Set output settings\n",
    "audio_codec = 'flac'\n",
    "audio_container = 'flac'\n",
    "video_codec = 'h264'\n",
    "video_container = 'mp4'"
   ]
  },
  {
   "cell_type": "code",
   "execution_count": 3,
   "metadata": {},
   "outputs": [
    {
     "name": "stdout",
     "output_type": "stream",
     "text": [
      "6000\n",
      "('5-xGskbsBgI', '000055', '000065') ('WbbqbXx8vh4', '000198', '000208')\n"
     ]
    }
   ],
   "source": [
    "download_json_file = \"/home/v-detaixin/VATEX/vatex_public_test_english_v1.1.json\"\n",
    "with open(download_json_file, \"r\") as f:\n",
    "    download_infos = json.load(f)\n",
    "print(len(download_infos))\n",
    "\n",
    "dl_list = []\n",
    "for i in range(len(download_infos)):\n",
    "    videoID = download_infos[i][\"videoID\"]\n",
    "    video_id = videoID[:11]\n",
    "    start_time = videoID[11:].split(\"_\")[1]\n",
    "    end_time = videoID[11:].split(\"_\")[2]\n",
    "    dl_list.append((video_id, start_time, end_time))\n",
    "\n",
    "print(dl_list[0], dl_list[1000])"
   ]
  },
  {
   "cell_type": "code",
   "execution_count": 4,
   "metadata": {},
   "outputs": [
    {
     "name": "stdout",
     "output_type": "stream",
     "text": [
      "Video URL: https://rr4---sn-nx57ynss.googlevideo.com/videoplayback?expire=1694792872&ei=SCgEZcX9L8yYkwaK95cw&ip=167.220.2.163&id=o-AGMkAkRIUunDIwG0cLvVQaVdhL6xv_kNUVhg_XZlq6Nq&itag=135&aitags=134%2C135%2C160%2C243&source=youtube&requiressl=yes&mh=l1&mm=31%2C29&mn=sn-nx57ynss%2Csn-nx5s7n7y&ms=au%2Crdu&mv=m&mvi=4&pl=17&initcwndbps=2467500&spc=UWF9f87T_K2MpNWb4YZU6z23MGgOZ6SnApIkKCM2yg&vprv=1&svpuc=1&mime=video%2Fmp4&ns=ghy85doghh4atoC9PvaWonsP&gir=yes&clen=27844547&dur=373.706&lmt=1694336876005310&mt=1694770903&fvip=4&keepalive=yes&fexp=24007246%2C24362685&c=WEB&txp=1216224&n=2CzOSAxWKu1YVg&sparams=expire%2Cei%2Cip%2Cid%2Caitags%2Csource%2Crequiressl%2Cspc%2Cvprv%2Csvpuc%2Cmime%2Cns%2Cgir%2Cclen%2Cdur%2Clmt&sig=AOq0QJ8wRgIhALKIv8GDPuxcCqdlJq_bPVm6_RTABTYqRwtH84qmvywHAiEAjtBeaLHWf3nyoqYSNCs4PLyZVnR9-pYyQIqdaG-s2k0%3D&lsparams=mh%2Cmm%2Cmn%2Cms%2Cmv%2Cmvi%2Cpl%2Cinitcwndbps&lsig=AG3C_xAwRAIganqtM2WznBz-6kaZgnw-4eA5_otZjm0zmRp9yH_d654CIDyAKiu9iuzHFPpy3mRty1vTS26LZ0sozebTjx_PrrvL\n",
      "Audio URL: https://rr4---sn-nx57ynss.googlevideo.com/videoplayback?expire=1694792872&ei=SCgEZcX9L8yYkwaK95cw&ip=167.220.2.163&id=o-AGMkAkRIUunDIwG0cLvVQaVdhL6xv_kNUVhg_XZlq6Nq&itag=251&source=youtube&requiressl=yes&mh=l1&mm=31%2C29&mn=sn-nx57ynss%2Csn-nx5s7n7y&ms=au%2Crdu&mv=m&mvi=4&pl=17&initcwndbps=2467500&spc=UWF9f87T_K2MpNWb4YZU6z23MGgOZ6SnApIkKCM2yg&vprv=1&svpuc=1&mime=audio%2Fwebm&ns=ghy85doghh4atoC9PvaWonsP&gir=yes&clen=3095033&dur=373.861&lmt=1565399094152275&mt=1694770903&fvip=4&keepalive=yes&fexp=24007246%2C24362685&c=WEB&n=2CzOSAxWKu1YVg&sparams=expire%2Cei%2Cip%2Cid%2Citag%2Csource%2Crequiressl%2Cspc%2Cvprv%2Csvpuc%2Cmime%2Cns%2Cgir%2Cclen%2Cdur%2Clmt&sig=AOq0QJ8wRQIhAMhHlnCgZF6tnB2UQGR3JM-mZ9IxFlMqy6Grj4flwWmkAiBH0WGwURIQU3K0AKzJw3l_nZ6ln-lS-CMfiyBxyf-Dzg%3D%3D&lsparams=mh%2Cmm%2Cmn%2Cms%2Cmv%2Cmvi%2Cpl%2Cinitcwndbps&lsig=AG3C_xAwRAIganqtM2WznBz-6kaZgnw-4eA5_otZjm0zmRp9yH_d654CIDyAKiu9iuzHFPpy3mRty1vTS26LZ0sozebTjx_PrrvL\n"
     ]
    }
   ],
   "source": [
    "# ! pip install git+https://github.com/ytdl-org/youtube-dl.git@master#egg=youtube_dl\n",
    "\n",
    "ytid, ts_start, ts_end = dl_list[0]\n",
    "\n",
    "# Get the URL to the video page\n",
    "video_page_url = 'https://www.youtube.com/watch?v={}'.format(ytid)\n",
    "\n",
    "# Get the direct URLs to the videos with best audio and with best video (with audio)\n",
    "video = pafy.new(video_page_url)\n",
    "\n",
    "best_video = video.getbestvideo()\n",
    "best_video_url = best_video.url\n",
    "print(\"Video URL: \" + best_video_url)\n",
    "\n",
    "best_audio = video.getbestaudio()\n",
    "best_audio_url = best_audio.url\n",
    "print(\"Audio URL: \" + best_audio_url)"
   ]
  }
 ],
 "metadata": {
  "kernelspec": {
   "display_name": "codec",
   "language": "python",
   "name": "python3"
  },
  "language_info": {
   "codemirror_mode": {
    "name": "ipython",
    "version": 3
   },
   "file_extension": ".py",
   "mimetype": "text/x-python",
   "name": "python",
   "nbconvert_exporter": "python",
   "pygments_lexer": "ipython3",
   "version": "3.8.18"
  },
  "orig_nbformat": 4
 },
 "nbformat": 4,
 "nbformat_minor": 2
}
